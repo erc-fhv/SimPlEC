{
 "cells": [
  {
   "cell_type": "code",
   "execution_count": 1,
   "metadata": {},
   "outputs": [
    {
     "name": "stdout",
     "output_type": "stream",
     "text": [
      "Model 'MyModel' will output: {'value': <class 'float'>, 'status': <class 'str'>}\n"
     ]
    }
   ],
   "source": [
    "from abc import ABC, abstractmethod\n",
    "from dataclasses import dataclass, fields\n",
    "from typing import Dict, Type\n",
    "\n",
    "# Define the base model class\n",
    "class BaseModel(ABC):\n",
    "    \n",
    "    @abstractmethod\n",
    "    def step(self):\n",
    "        \"\"\"Method to be implemented by each model.\"\"\"\n",
    "        pass\n",
    "\n",
    "    @classmethod\n",
    "    def get_step_output_fields(cls) -> Dict[str, str]:\n",
    "        \"\"\"Returns the names of the output fields from the `step` method.\"\"\"\n",
    "        step_method = cls.step\n",
    "        return_type = step_method.__annotations__.get('return')\n",
    "        \n",
    "        if not return_type or not hasattr(return_type, '__dataclass_fields__'):\n",
    "            raise ValueError(f\"The return type of {cls.__name__}.step must be a dataclass.\")\n",
    "        \n",
    "        # Extract field names and types from the dataclass\n",
    "        return {f.name: f.type for f in fields(return_type)}\n",
    "\n",
    "# Define a model that inherits from BaseModel\n",
    "class MyModel(BaseModel):\n",
    "    class ModelOutput:\n",
    "        value: float\n",
    "        status: str\n",
    "\n",
    "    def step(self) -> ModelOutput:\n",
    "        # Implement the logic here\n",
    "        return self.ModelOutput(value=1.0, status=\"running\")\n",
    "\n",
    "# Define the simulation class\n",
    "class Simulation:\n",
    "    \n",
    "    def __init__(self):\n",
    "        self.models = []\n",
    "\n",
    "    def add_model(self, model_cls: Type[BaseModel]):\n",
    "        \"\"\"Add model to the simulation and print output field names.\"\"\"\n",
    "        output_fields = model_cls.get_step_output_fields()\n",
    "        print(f\"Model '{model_cls.__name__}' will output: {output_fields}\")\n",
    "        self.models.append(model_cls())\n",
    "\n",
    "# Example usage\n",
    "sim = Simulation()\n",
    "sim.add_model(MyModel)"
   ]
  },
  {
   "cell_type": "code",
   "execution_count": 44,
   "metadata": {},
   "outputs": [],
   "source": [
    "from dataclasses import asdict, dataclass, make_dataclass\n",
    "\n",
    "\n",
    "dataclass()\n",
    "\n",
    "class MyModel(BaseModel):\n",
    "    def __init__(self):\n",
    "        super().__init__()\n",
    "        self.modeloutput = make_dataclass()\n",
    "\n",
    "    def step(self):\n",
    "        # Implement the logic here\n",
    "        return 1"
   ]
  },
  {
   "cell_type": "code",
   "execution_count": 45,
   "metadata": {},
   "outputs": [],
   "source": [
    "mymodel = MyModel()"
   ]
  },
  {
   "cell_type": "code",
   "execution_count": 47,
   "metadata": {},
   "outputs": [
    {
     "data": {
      "text/plain": [
       "1"
      ]
     },
     "execution_count": 47,
     "metadata": {},
     "output_type": "execute_result"
    }
   ],
   "source": [
    "mymodel.modeloutput.value"
   ]
  },
  {
   "cell_type": "code",
   "execution_count": null,
   "metadata": {},
   "outputs": [],
   "source": []
  }
 ],
 "metadata": {
  "kernelspec": {
   "display_name": "flecsframework_0_1",
   "language": "python",
   "name": "python3"
  },
  "language_info": {
   "codemirror_mode": {
    "name": "ipython",
    "version": 3
   },
   "file_extension": ".py",
   "mimetype": "text/x-python",
   "name": "python",
   "nbconvert_exporter": "python",
   "pygments_lexer": "ipython3",
   "version": "3.12.5"
  }
 },
 "nbformat": 4,
 "nbformat_minor": 2
}
