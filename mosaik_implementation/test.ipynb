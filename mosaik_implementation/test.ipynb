{
 "cells": [
  {
   "cell_type": "code",
   "execution_count": 1,
   "metadata": {},
   "outputs": [],
   "source": [
    "import numpy as np\n",
    "from scipy.linalg import expm\n",
    "import matplotlib.pyplot as plt\n",
    "import pandas as pd"
   ]
  },
  {
   "cell_type": "code",
   "execution_count": 2,
   "metadata": {},
   "outputs": [],
   "source": [
    "\n",
    "Δ_T = 10\n",
    "\n",
    "T_room1 = 20\n",
    "T_room2 = 30 \n",
    "\n",
    "UA1 = 5\n",
    "UA2 = 2\n",
    "UA1_2 = 8\n",
    "C1 = 3000\n",
    "C2 = 1000\n",
    "\n",
    "# x    =           [T_room1, T_room2].T\n",
    "A = np.array([[-UA1_2/C1,  UA1_2/C1],\n",
    "              [ UA1_2/C2, -UA1_2/C2]])\n",
    "\n",
    "# u =      [T_amb, dot_Q_sol, dot_Q_int]\n",
    "B = np.array([[UA1/C1, 1, 1],\n",
    "              [UA2/C2, 0, 0]])\n",
    "\n",
    "C = np.array([[1], [1]])"
   ]
  },
  {
   "cell_type": "code",
   "execution_count": 3,
   "metadata": {},
   "outputs": [],
   "source": [
    "def discretize_StateSpace(A, B, Δ_T):\n",
    "    # Discretize System\n",
    "    # https://en.wikipedia.org/wiki/Discretization#Discretization_of_linear_state_space_models\n",
    "\n",
    "    \n",
    "    # exponent =  [[A, B],\n",
    "    #              [0, 0]] * Δ_T\n",
    "    exponent = np.vstack((np.hstack((A, B)), np.zeros((B.shape[1], A.shape[1]+B.shape[1]))))*Δ_T\n",
    "\n",
    "    res = expm(exponent)\n",
    "\n",
    "    # res = [[Ad, Bd]\n",
    "    #        [ 0, I]]\n",
    "    Ad = res[:A.shape[0], :A.shape[1]]\n",
    "    Bd = res[:B.shape[0], A.shape[1]:]\n",
    "\n",
    "    return Ad, Bd"
   ]
  },
  {
   "cell_type": "code",
   "execution_count": 4,
   "metadata": {},
   "outputs": [],
   "source": [
    "Ad, Bd = discretize_StateSpace(A, B, Δ_T)"
   ]
  },
  {
   "cell_type": "code",
   "execution_count": 5,
   "metadata": {},
   "outputs": [],
   "source": [
    "x_prev = np.array([T_room1, T_room2])\n",
    "\n",
    "temps = {}\n",
    "\n",
    "temps[0] = {'T_room1': x_prev[0], 'T_room2': x_prev[1]}\n",
    "\n",
    "for t in np.arange(Δ_T, 1000, Δ_T):\n",
    "    u = np.array([0, 0, 0])\n",
    "    x = Ad@x_prev + Bd@u\n",
    "    x_prev = x\n",
    "    temps[t] = {'T_room1': x_prev[0], 'T_room2': x_prev[1]}\n",
    "\n",
    "df = pd.DataFrame.from_dict(temps, orient='index')"
   ]
  },
  {
   "cell_type": "code",
   "execution_count": 6,
   "metadata": {},
   "outputs": [
    {
     "name": "stderr",
     "output_type": "stream",
     "text": [
      "/tmp/ipykernel_28099/1686551538.py:3: UserWarning: Matplotlib is currently using module://matplotlib_inline.backend_inline, which is a non-GUI backend, so cannot show the figure.\n",
      "  fig.show()\n"
     ]
    },
    {
     "data": {
      "image/png": "[encoded data removed]",
      "text/plain": [
       "<Figure size 640x480 with 1 Axes>"
      ]
     },
     "metadata": {},
     "output_type": "display_data"
    }
   ],
   "source": [
    "fig, ax = plt.subplots(1, 1)\n",
    "df.plot(ax=ax)\n",
    "fig.show()"
   ]
  },
  {
   "cell_type": "code",
   "execution_count": null,
   "metadata": {},
   "outputs": [],
   "source": []
  },
  {
   "cell_type": "code",
   "execution_count": 7,
   "metadata": {},
   "outputs": [],
   "source": [
    "import models.building_model as bm"
   ]
  },
  {
   "cell_type": "code",
   "execution_count": 8,
   "metadata": {},
   "outputs": [],
   "source": [
    "model = bm.BuildingModel()"
   ]
  },
  {
   "cell_type": "code",
   "execution_count": 9,
   "metadata": {},
   "outputs": [
    {
     "ename": "AttributeError",
     "evalue": "'BuildingModel' object has no attribute 'solar_pos'",
     "output_type": "error",
     "traceback": [
      "\u001b[0;31m---------------------------------------------------------------------------\u001b[0m",
      "\u001b[0;31mAttributeError\u001b[0m                            Traceback (most recent call last)",
      "Cell \u001b[0;32mIn[9], line 1\u001b[0m\n\u001b[0;32m----> 1\u001b[0m model\u001b[39m.\u001b[39;49mstep()\n",
      "File \u001b[0;32m~/Code/mosaik-demo/models/building_model.py:66\u001b[0m, in \u001b[0;36mBuildingModel.step\u001b[0;34m(self)\u001b[0m\n\u001b[1;32m     65\u001b[0m \u001b[39mdef\u001b[39;00m \u001b[39mstep\u001b[39m(\u001b[39mself\u001b[39m):\n\u001b[0;32m---> 66\u001b[0m     \u001b[39mself\u001b[39m\u001b[39m.\u001b[39mdot_Q_sol \u001b[39m=\u001b[39m \u001b[39mself\u001b[39;49m\u001b[39m.\u001b[39;49mcalc_irradiation()\u001b[39m*\u001b[39m\u001b[39mself\u001b[39m\u001b[39m.\u001b[39mA_facade\n\u001b[1;32m     68\u001b[0m     u \u001b[39m=\u001b[39m np\u001b[39m.\u001b[39marray([[\u001b[39mself\u001b[39m\u001b[39m.\u001b[39mT_amb], [\u001b[39mself\u001b[39m\u001b[39m.\u001b[39mdot_Q_sol], [\u001b[39mself\u001b[39m\u001b[39m.\u001b[39mdot_Q_int]])\n\u001b[1;32m     69\u001b[0m     x_prev \u001b[39m=\u001b[39m np\u001b[39m.\u001b[39marray([[\u001b[39mself\u001b[39m\u001b[39m.\u001b[39mT_room1], [\u001b[39mself\u001b[39m\u001b[39m.\u001b[39mT_room2]])\n",
      "File \u001b[0;32m~/Code/mosaik-demo/models/building_model.py:78\u001b[0m, in \u001b[0;36mBuildingModel.calc_irradiation\u001b[0;34m(self)\u001b[0m\n\u001b[1;32m     74\u001b[0m \u001b[39mdef\u001b[39;00m \u001b[39mcalc_irradiation\u001b[39m(\u001b[39mself\u001b[39m):\n\u001b[1;32m     75\u001b[0m     \u001b[39mreturn\u001b[39;00m pvlib\u001b[39m.\u001b[39mirradiance\u001b[39m.\u001b[39mget_total_irradiance(\n\u001b[1;32m     76\u001b[0m     surface_tilt\u001b[39m=\u001b[39m\u001b[39m90\u001b[39m,\n\u001b[1;32m     77\u001b[0m     surface_azimuth\u001b[39m=\u001b[39m\u001b[39m180\u001b[39m,\n\u001b[0;32m---> 78\u001b[0m     solar_zenith\u001b[39m=\u001b[39m\u001b[39mself\u001b[39;49m\u001b[39m.\u001b[39;49msolar_pos[\u001b[39m'\u001b[39m\u001b[39mapparent_zenith\u001b[39m\u001b[39m'\u001b[39m],\n\u001b[1;32m     79\u001b[0m     solar_azimuth\u001b[39m=\u001b[39m\u001b[39mself\u001b[39m\u001b[39m.\u001b[39msolar_pos[\u001b[39m'\u001b[39m\u001b[39mazimuth\u001b[39m\u001b[39m'\u001b[39m],\n\u001b[1;32m     80\u001b[0m     dni\u001b[39m=\u001b[39m\u001b[39mself\u001b[39m\u001b[39m.\u001b[39mdni,\n\u001b[1;32m     81\u001b[0m     dhi\u001b[39m=\u001b[39m\u001b[39mself\u001b[39m\u001b[39m.\u001b[39mdhi,\n\u001b[1;32m     82\u001b[0m     ghi\u001b[39m=\u001b[39m\u001b[39mself\u001b[39m\u001b[39m.\u001b[39mghi\n\u001b[1;32m     83\u001b[0m     \u001b[39m# dni_extra=self.solar_pos['E'],\u001b[39;00m\n\u001b[1;32m     84\u001b[0m     \u001b[39m# altitude=meta['location']['elevation']\u001b[39;00m\n\u001b[1;32m     85\u001b[0m     )[\u001b[39m'\u001b[39m\u001b[39mpoa_global\u001b[39m\u001b[39m'\u001b[39m]\n",
      "\u001b[0;31mAttributeError\u001b[0m: 'BuildingModel' object has no attribute 'solar_pos'"
     ]
    }
   ],
   "source": [
    "model.step()"
   ]
  },
  {
   "cell_type": "code",
   "execution_count": null,
   "metadata": {},
   "outputs": [
    {
     "data": {
      "text/plain": [
       "21.181768939892383"
      ]
     },
     "execution_count": 4,
     "metadata": {},
     "output_type": "execute_result"
    }
   ],
   "source": [
    "model.T_room1"
   ]
  },
  {
   "cell_type": "code",
   "execution_count": 15,
   "metadata": {},
   "outputs": [],
   "source": [
    "import pvlib\n",
    "\n",
    "latitude  = 47.4868936 # 37.7749\n",
    "longitude = 9.7406211 # -122.4194\n",
    "# altitude  =  # 5\n",
    "\n",
    "# Location information (latitude, longitude, and altitude)\n",
    "latitude  = latitude\n",
    "longitude = longitude\n",
    "# altitude  = altitude\n",
    "\n",
    "weather_df = pvlib.iotools.get_pvgis_tmy(latitude, longitude)[0]\n",
    "time = 0"
   ]
  },
  {
   "cell_type": "code",
   "execution_count": 16,
   "metadata": {},
   "outputs": [],
   "source": [
    "weather_df.index = pd.date_range('2021-01-01 00:00:00', '2021-12-31 23:00:00', freq='1h', tz='UTC').tz_convert('Europe/Berlin')"
   ]
  },
  {
   "cell_type": "code",
   "execution_count": 17,
   "metadata": {},
   "outputs": [
    {
     "data": {
      "text/html": [
       "<div>\n",
       "<style scoped>\n",
       "    .dataframe tbody tr th:only-of-type {\n",
       "        vertical-align: middle;\n",
       "    }\n",
       "\n",
       "    .dataframe tbody tr th {\n",
       "        vertical-align: top;\n",
       "    }\n",
       "\n",
       "    .dataframe thead th {\n",
       "        text-align: right;\n",
       "    }\n",
       "</style>\n",
       "<table border=\"1\" class=\"dataframe\">\n",
       "  <thead>\n",
       "    <tr style=\"text-align: right;\">\n",
       "      <th></th>\n",
       "      <th>temp_air</th>\n",
       "      <th>relative_humidity</th>\n",
       "      <th>ghi</th>\n",
       "      <th>dni</th>\n",
       "      <th>dhi</th>\n",
       "      <th>IR(h)</th>\n",
       "      <th>wind_speed</th>\n",
       "      <th>wind_direction</th>\n",
       "      <th>pressure</th>\n",
       "    </tr>\n",
       "  </thead>\n",
       "  <tbody>\n",
       "    <tr>\n",
       "      <th>2021-01-01 01:00:00+01:00</th>\n",
       "      <td>5.79</td>\n",
       "      <td>94.87</td>\n",
       "      <td>0.0</td>\n",
       "      <td>0.0</td>\n",
       "      <td>0.0</td>\n",
       "      <td>265.95</td>\n",
       "      <td>0.78</td>\n",
       "      <td>13.0</td>\n",
       "      <td>97756.0</td>\n",
       "    </tr>\n",
       "    <tr>\n",
       "      <th>2021-01-01 02:00:00+01:00</th>\n",
       "      <td>5.75</td>\n",
       "      <td>95.16</td>\n",
       "      <td>0.0</td>\n",
       "      <td>0.0</td>\n",
       "      <td>0.0</td>\n",
       "      <td>264.38</td>\n",
       "      <td>0.76</td>\n",
       "      <td>5.0</td>\n",
       "      <td>97762.0</td>\n",
       "    </tr>\n",
       "    <tr>\n",
       "      <th>2021-01-01 03:00:00+01:00</th>\n",
       "      <td>5.72</td>\n",
       "      <td>95.44</td>\n",
       "      <td>0.0</td>\n",
       "      <td>0.0</td>\n",
       "      <td>0.0</td>\n",
       "      <td>262.82</td>\n",
       "      <td>0.74</td>\n",
       "      <td>356.0</td>\n",
       "      <td>97769.0</td>\n",
       "    </tr>\n",
       "    <tr>\n",
       "      <th>2021-01-01 04:00:00+01:00</th>\n",
       "      <td>5.68</td>\n",
       "      <td>95.73</td>\n",
       "      <td>0.0</td>\n",
       "      <td>0.0</td>\n",
       "      <td>0.0</td>\n",
       "      <td>261.25</td>\n",
       "      <td>0.72</td>\n",
       "      <td>356.0</td>\n",
       "      <td>97784.0</td>\n",
       "    </tr>\n",
       "    <tr>\n",
       "      <th>2021-01-01 05:00:00+01:00</th>\n",
       "      <td>5.65</td>\n",
       "      <td>96.01</td>\n",
       "      <td>0.0</td>\n",
       "      <td>0.0</td>\n",
       "      <td>0.0</td>\n",
       "      <td>259.69</td>\n",
       "      <td>0.69</td>\n",
       "      <td>356.0</td>\n",
       "      <td>97800.0</td>\n",
       "    </tr>\n",
       "    <tr>\n",
       "      <th>...</th>\n",
       "      <td>...</td>\n",
       "      <td>...</td>\n",
       "      <td>...</td>\n",
       "      <td>...</td>\n",
       "      <td>...</td>\n",
       "      <td>...</td>\n",
       "      <td>...</td>\n",
       "      <td>...</td>\n",
       "      <td>...</td>\n",
       "    </tr>\n",
       "    <tr>\n",
       "      <th>2021-01-03 20:00:00+01:00</th>\n",
       "      <td>5.33</td>\n",
       "      <td>79.79</td>\n",
       "      <td>0.0</td>\n",
       "      <td>0.0</td>\n",
       "      <td>0.0</td>\n",
       "      <td>289.17</td>\n",
       "      <td>3.63</td>\n",
       "      <td>169.0</td>\n",
       "      <td>95339.0</td>\n",
       "    </tr>\n",
       "    <tr>\n",
       "      <th>2021-01-03 21:00:00+01:00</th>\n",
       "      <td>5.65</td>\n",
       "      <td>77.87</td>\n",
       "      <td>0.0</td>\n",
       "      <td>0.0</td>\n",
       "      <td>0.0</td>\n",
       "      <td>301.80</td>\n",
       "      <td>3.74</td>\n",
       "      <td>169.0</td>\n",
       "      <td>95266.0</td>\n",
       "    </tr>\n",
       "    <tr>\n",
       "      <th>2021-01-03 22:00:00+01:00</th>\n",
       "      <td>5.76</td>\n",
       "      <td>78.51</td>\n",
       "      <td>0.0</td>\n",
       "      <td>0.0</td>\n",
       "      <td>0.0</td>\n",
       "      <td>303.25</td>\n",
       "      <td>4.18</td>\n",
       "      <td>169.0</td>\n",
       "      <td>95193.0</td>\n",
       "    </tr>\n",
       "    <tr>\n",
       "      <th>2021-01-03 23:00:00+01:00</th>\n",
       "      <td>5.87</td>\n",
       "      <td>79.14</td>\n",
       "      <td>0.0</td>\n",
       "      <td>0.0</td>\n",
       "      <td>0.0</td>\n",
       "      <td>304.70</td>\n",
       "      <td>4.62</td>\n",
       "      <td>168.0</td>\n",
       "      <td>95120.0</td>\n",
       "    </tr>\n",
       "    <tr>\n",
       "      <th>2021-01-04 00:00:00+01:00</th>\n",
       "      <td>5.98</td>\n",
       "      <td>79.78</td>\n",
       "      <td>0.0</td>\n",
       "      <td>0.0</td>\n",
       "      <td>0.0</td>\n",
       "      <td>306.15</td>\n",
       "      <td>5.06</td>\n",
       "      <td>168.0</td>\n",
       "      <td>95047.0</td>\n",
       "    </tr>\n",
       "  </tbody>\n",
       "</table>\n",
       "<p>72 rows × 9 columns</p>\n",
       "</div>"
      ],
      "text/plain": [
       "                           temp_air  relative_humidity  ghi  dni  dhi   IR(h)  \\\n",
       "2021-01-01 01:00:00+01:00      5.79              94.87  0.0  0.0  0.0  265.95   \n",
       "2021-01-01 02:00:00+01:00      5.75              95.16  0.0  0.0  0.0  264.38   \n",
       "2021-01-01 03:00:00+01:00      5.72              95.44  0.0  0.0  0.0  262.82   \n",
       "2021-01-01 04:00:00+01:00      5.68              95.73  0.0  0.0  0.0  261.25   \n",
       "2021-01-01 05:00:00+01:00      5.65              96.01  0.0  0.0  0.0  259.69   \n",
       "...                             ...                ...  ...  ...  ...     ...   \n",
       "2021-01-03 20:00:00+01:00      5.33              79.79  0.0  0.0  0.0  289.17   \n",
       "2021-01-03 21:00:00+01:00      5.65              77.87  0.0  0.0  0.0  301.80   \n",
       "2021-01-03 22:00:00+01:00      5.76              78.51  0.0  0.0  0.0  303.25   \n",
       "2021-01-03 23:00:00+01:00      5.87              79.14  0.0  0.0  0.0  304.70   \n",
       "2021-01-04 00:00:00+01:00      5.98              79.78  0.0  0.0  0.0  306.15   \n",
       "\n",
       "                           wind_speed  wind_direction  pressure  \n",
       "2021-01-01 01:00:00+01:00        0.78            13.0   97756.0  \n",
       "2021-01-01 02:00:00+01:00        0.76             5.0   97762.0  \n",
       "2021-01-01 03:00:00+01:00        0.74           356.0   97769.0  \n",
       "2021-01-01 04:00:00+01:00        0.72           356.0   97784.0  \n",
       "2021-01-01 05:00:00+01:00        0.69           356.0   97800.0  \n",
       "...                               ...             ...       ...  \n",
       "2021-01-03 20:00:00+01:00        3.63           169.0   95339.0  \n",
       "2021-01-03 21:00:00+01:00        3.74           169.0   95266.0  \n",
       "2021-01-03 22:00:00+01:00        4.18           169.0   95193.0  \n",
       "2021-01-03 23:00:00+01:00        4.62           168.0   95120.0  \n",
       "2021-01-04 00:00:00+01:00        5.06           168.0   95047.0  \n",
       "\n",
       "[72 rows x 9 columns]"
      ]
     },
     "execution_count": 17,
     "metadata": {},
     "output_type": "execute_result"
    }
   ],
   "source": [
    "weather_df.head(24*3)"
   ]
  },
  {
   "cell_type": "code",
   "execution_count": null,
   "metadata": {},
   "outputs": [],
   "source": [
    "from models.weather_model import LocalWeather"
   ]
  },
  {
   "cell_type": "code",
   "execution_count": null,
   "metadata": {},
   "outputs": [],
   "source": [
    "w = LocalWeather()"
   ]
  },
  {
   "cell_type": "code",
   "execution_count": null,
   "metadata": {},
   "outputs": [],
   "source": [
    "w.step()"
   ]
  },
  {
   "cell_type": "code",
   "execution_count": null,
   "metadata": {},
   "outputs": [
    {
     "data": {
      "text/plain": [
       "temp_air                 11.26\n",
       "relative_humidity        99.33\n",
       "ghi                     125.00\n",
       "dni                     500.90\n",
       "dhi                      45.00\n",
       "IR(h)                   279.82\n",
       "wind_speed                5.50\n",
       "wind_direction          298.00\n",
       "pressure             102000.00\n",
       "Name: 2021-01-01 00:00:00, dtype: float64"
      ]
     },
     "execution_count": 6,
     "metadata": {},
     "output_type": "execute_result"
    }
   ],
   "source": [
    "w.data"
   ]
  },
  {
   "cell_type": "code",
   "execution_count": null,
   "metadata": {},
   "outputs": [],
   "source": [
    "d = {'T_amb': {'Weather-0.Weather_0': 11.26}}"
   ]
  },
  {
   "cell_type": "code",
   "execution_count": null,
   "metadata": {},
   "outputs": [
    {
     "data": {
      "text/plain": [
       "11.26"
      ]
     },
     "execution_count": 13,
     "metadata": {},
     "output_type": "execute_result"
    }
   ],
   "source": [
    "sum(d['T_amb'].values())/len(d['T_amb'])"
   ]
  },
  {
   "cell_type": "code",
   "execution_count": null,
   "metadata": {},
   "outputs": [],
   "source": []
  }
 ],
 "metadata": {
  "kernelspec": {
   "display_name": "mosaik",
   "language": "python",
   "name": "python3"
  },
  "language_info": {
   "codemirror_mode": {
    "name": "ipython",
    "version": 3
   },
   "file_extension": ".py",
   "mimetype": "text/x-python",
   "name": "python",
   "nbconvert_exporter": "python",
   "pygments_lexer": "ipython3",
   "version": "3.10.6"
  },
  "orig_nbformat": 4
 },
 "nbformat": 4,
 "nbformat_minor": 2
}
