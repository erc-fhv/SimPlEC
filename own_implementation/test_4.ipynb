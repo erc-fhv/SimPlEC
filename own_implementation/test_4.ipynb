{
 "cells": [
  {
   "cell_type": "code",
   "execution_count": 1,
   "metadata": {},
   "outputs": [],
   "source": [
    "import pandas as pd\n",
    "from simulation import Simulation\n",
    "\n",
    "from models.building_model import BuildingModel\n",
    "from models.heat_pump import HeatPump\n",
    "from models.hyst_controller import HystController\n",
    "from models.weather_model import LocalWeather\n",
    "\n",
    "import matplotlib.pyplot as plt\n",
    "import matplotlib.dates as mdates\n",
    "%matplotlib ipympl"
   ]
  },
  {
   "cell_type": "code",
   "execution_count": 2,
   "metadata": {},
   "outputs": [],
   "source": [
    "class HystController():\n",
    "    def __init__(self, name, delta_t=60, hyst=4, T_set=21, state_0='off') -> None:\n",
    "        # Parameter\n",
    "        self.delta_t = delta_t\n",
    "\n",
    "        self.T_set = T_set \n",
    "        self.hyst = hyst\n",
    "\n",
    "        self.state = state_0\n",
    "\n",
    "        self.inputs  = ['T_is']\n",
    "        self.outputs = ['state']\n",
    "\n",
    "        self.name = name\n",
    "\n",
    "    def step(self, time, T_is):\n",
    "        if T_is > self.T_set + self.hyst/2: # upper limit; switch ooff\n",
    "            self.state = 'off'\n",
    "        elif T_is < self.T_set - self.hyst/2:  # lower limit, switch on\n",
    "            self.state = 'on'\n",
    "        else:\n",
    "            pass # else leave state as is\n",
    "        return {'state': self.state}\n",
    "        "
   ]
  },
  {
   "cell_type": "code",
   "execution_count": 6,
   "metadata": {},
   "outputs": [
    {
     "name": "stderr",
     "output_type": "stream",
     "text": [
      "Progress: 100%|██████████| 2881/2881 [00:05<00:00, 492.39Steps/s]\n"
     ]
    }
   ],
   "source": [
    "sim = Simulation()\n",
    "\n",
    "building   = BuildingModel('building')\n",
    "heatpump   = HeatPump('heatpump')\n",
    "controller = HystController('controller', hyst=1.2)\n",
    "weather    = LocalWeather('weather')\n",
    "\n",
    "sim.add_model(building,   watch_values=['T_room1', 'T_room2', 'T_amb', 'apparent_zenith', 'dhi', 'ghi']  )\n",
    "sim.add_model(heatpump,   watch_values=['state', 'P_el', 'dot_Q_hp'])\n",
    "sim.add_model(controller, watch_values=['T_is', 'state'])\n",
    "sim.add_model(weather,    watch_values=['apparent_zenith', 'dhi', 'ghi'])\n",
    "\n",
    "sim.connect(weather, building, ('T_air', 'T_amb'), 'apparent_zenith', 'azimuth', 'dni', 'dhi', 'ghi')\n",
    "sim.connect(weather, heatpump, ('T_air', 'T_source'))\n",
    "sim.connect(heatpump, building, ('dot_Q_hp', 'dot_Q_heat'))\n",
    "sim.connect(controller, heatpump, ('state', 'state'))\n",
    "\n",
    "sim.connect(building, heatpump, ('T_room1', 'T_sink'), time_shifted=True, init_values={'T_room1': 21})\n",
    "sim.connect(building, controller, ('T_room1', 'T_is'), time_shifted=True, init_values={'T_room1': 21})\n",
    "\n",
    "times = pd.date_range('2021-01-01 00:00:00', '2021-01-03 00:00:00', freq='1min', tz='UTC+01:00')\n",
    "\n",
    "sim.run(times)"
   ]
  },
  {
   "cell_type": "code",
   "execution_count": 4,
   "metadata": {},
   "outputs": [
    {
     "ename": "FileNotFoundError",
     "evalue": "[Errno 2] No such file or directory: 'output_data.pkl'",
     "output_type": "error",
     "traceback": [
      "\u001b[1;31m---------------------------------------------------------------------------\u001b[0m",
      "\u001b[1;31mFileNotFoundError\u001b[0m                         Traceback (most recent call last)",
      "Cell \u001b[1;32mIn[4], line 1\u001b[0m\n\u001b[1;32m----> 1\u001b[0m df \u001b[38;5;241m=\u001b[39m \u001b[43mpd\u001b[49m\u001b[38;5;241;43m.\u001b[39;49m\u001b[43mread_pickle\u001b[49m\u001b[43m(\u001b[49m\u001b[38;5;124;43m'\u001b[39;49m\u001b[38;5;124;43moutput_data.pkl\u001b[39;49m\u001b[38;5;124;43m'\u001b[39;49m\u001b[43m)\u001b[49m\n",
      "File \u001b[1;32mc:\\Users\\seva\\AppData\\Local\\miniconda3\\envs\\EEG_1\\Lib\\site-packages\\pandas\\io\\pickle.py:189\u001b[0m, in \u001b[0;36mread_pickle\u001b[1;34m(filepath_or_buffer, compression, storage_options)\u001b[0m\n\u001b[0;32m    125\u001b[0m \u001b[38;5;250m\u001b[39m\u001b[38;5;124;03m\"\"\"\u001b[39;00m\n\u001b[0;32m    126\u001b[0m \u001b[38;5;124;03mLoad pickled pandas object (or any object) from file.\u001b[39;00m\n\u001b[0;32m    127\u001b[0m \n\u001b[1;32m   (...)\u001b[0m\n\u001b[0;32m    186\u001b[0m \u001b[38;5;124;03m4    4    9\u001b[39;00m\n\u001b[0;32m    187\u001b[0m \u001b[38;5;124;03m\"\"\"\u001b[39;00m\n\u001b[0;32m    188\u001b[0m excs_to_catch \u001b[38;5;241m=\u001b[39m (\u001b[38;5;167;01mAttributeError\u001b[39;00m, \u001b[38;5;167;01mImportError\u001b[39;00m, \u001b[38;5;167;01mModuleNotFoundError\u001b[39;00m, \u001b[38;5;167;01mTypeError\u001b[39;00m)\n\u001b[1;32m--> 189\u001b[0m \u001b[38;5;28;01mwith\u001b[39;00m \u001b[43mget_handle\u001b[49m\u001b[43m(\u001b[49m\n\u001b[0;32m    190\u001b[0m \u001b[43m    \u001b[49m\u001b[43mfilepath_or_buffer\u001b[49m\u001b[43m,\u001b[49m\n\u001b[0;32m    191\u001b[0m \u001b[43m    \u001b[49m\u001b[38;5;124;43m\"\u001b[39;49m\u001b[38;5;124;43mrb\u001b[39;49m\u001b[38;5;124;43m\"\u001b[39;49m\u001b[43m,\u001b[49m\n\u001b[0;32m    192\u001b[0m \u001b[43m    \u001b[49m\u001b[43mcompression\u001b[49m\u001b[38;5;241;43m=\u001b[39;49m\u001b[43mcompression\u001b[49m\u001b[43m,\u001b[49m\n\u001b[0;32m    193\u001b[0m \u001b[43m    \u001b[49m\u001b[43mis_text\u001b[49m\u001b[38;5;241;43m=\u001b[39;49m\u001b[38;5;28;43;01mFalse\u001b[39;49;00m\u001b[43m,\u001b[49m\n\u001b[0;32m    194\u001b[0m \u001b[43m    \u001b[49m\u001b[43mstorage_options\u001b[49m\u001b[38;5;241;43m=\u001b[39;49m\u001b[43mstorage_options\u001b[49m\u001b[43m,\u001b[49m\n\u001b[0;32m    195\u001b[0m \u001b[43m\u001b[49m\u001b[43m)\u001b[49m \u001b[38;5;28;01mas\u001b[39;00m handles:\n\u001b[0;32m    196\u001b[0m     \u001b[38;5;66;03m# 1) try standard library Pickle\u001b[39;00m\n\u001b[0;32m    197\u001b[0m     \u001b[38;5;66;03m# 2) try pickle_compat (older pandas version) to handle subclass changes\u001b[39;00m\n\u001b[0;32m    198\u001b[0m     \u001b[38;5;66;03m# 3) try pickle_compat with latin-1 encoding upon a UnicodeDecodeError\u001b[39;00m\n\u001b[0;32m    200\u001b[0m     \u001b[38;5;28;01mtry\u001b[39;00m:\n\u001b[0;32m    201\u001b[0m         \u001b[38;5;66;03m# TypeError for Cython complaints about object.__new__ vs Tick.__new__\u001b[39;00m\n\u001b[0;32m    202\u001b[0m         \u001b[38;5;28;01mtry\u001b[39;00m:\n",
      "File \u001b[1;32mc:\\Users\\seva\\AppData\\Local\\miniconda3\\envs\\EEG_1\\Lib\\site-packages\\pandas\\io\\common.py:872\u001b[0m, in \u001b[0;36mget_handle\u001b[1;34m(path_or_buf, mode, encoding, compression, memory_map, is_text, errors, storage_options)\u001b[0m\n\u001b[0;32m    863\u001b[0m         handle \u001b[38;5;241m=\u001b[39m \u001b[38;5;28mopen\u001b[39m(\n\u001b[0;32m    864\u001b[0m             handle,\n\u001b[0;32m    865\u001b[0m             ioargs\u001b[38;5;241m.\u001b[39mmode,\n\u001b[1;32m   (...)\u001b[0m\n\u001b[0;32m    868\u001b[0m             newline\u001b[38;5;241m=\u001b[39m\u001b[38;5;124m\"\u001b[39m\u001b[38;5;124m\"\u001b[39m,\n\u001b[0;32m    869\u001b[0m         )\n\u001b[0;32m    870\u001b[0m     \u001b[38;5;28;01melse\u001b[39;00m:\n\u001b[0;32m    871\u001b[0m         \u001b[38;5;66;03m# Binary mode\u001b[39;00m\n\u001b[1;32m--> 872\u001b[0m         handle \u001b[38;5;241m=\u001b[39m \u001b[38;5;28;43mopen\u001b[39;49m\u001b[43m(\u001b[49m\u001b[43mhandle\u001b[49m\u001b[43m,\u001b[49m\u001b[43m \u001b[49m\u001b[43mioargs\u001b[49m\u001b[38;5;241;43m.\u001b[39;49m\u001b[43mmode\u001b[49m\u001b[43m)\u001b[49m\n\u001b[0;32m    873\u001b[0m     handles\u001b[38;5;241m.\u001b[39mappend(handle)\n\u001b[0;32m    875\u001b[0m \u001b[38;5;66;03m# Convert BytesIO or file objects passed with an encoding\u001b[39;00m\n",
      "\u001b[1;31mFileNotFoundError\u001b[0m: [Errno 2] No such file or directory: 'output_data.pkl'"
     ]
    }
   ],
   "source": [
    "df = pd.read_pickle('output_data.pkl')"
   ]
  },
  {
   "cell_type": "code",
   "execution_count": 24,
   "metadata": {},
   "outputs": [
    {
     "data": {
      "text/html": [
       "<div>\n",
       "<style scoped>\n",
       "    .dataframe tbody tr th:only-of-type {\n",
       "        vertical-align: middle;\n",
       "    }\n",
       "\n",
       "    .dataframe tbody tr th {\n",
       "        vertical-align: top;\n",
       "    }\n",
       "\n",
       "    .dataframe thead tr th {\n",
       "        text-align: left;\n",
       "    }\n",
       "</style>\n",
       "<table border=\"1\" class=\"dataframe\">\n",
       "  <thead>\n",
       "  </thead>\n",
       "  <tbody>\n",
       "  </tbody>\n",
       "</table>\n",
       "</div>"
      ],
      "text/plain": [
       "Empty DataFrame\n",
       "Columns: []\n",
       "Index: []"
      ]
     },
     "execution_count": 24,
     "metadata": {},
     "output_type": "execute_result"
    }
   ],
   "source": [
    "for col in df.columns:\n",
    "    # Attempt to convert the column to numeric\n",
    "    df[col] = pd.to_numeric(df[col], errors='ignore')\n",
    "df.head()"
   ]
  },
  {
   "cell_type": "code",
   "execution_count": 21,
   "metadata": {},
   "outputs": [
    {
     "ename": "KeyError",
     "evalue": "('building', 'outputs', 'T_room1')",
     "output_type": "error",
     "traceback": [
      "\u001b[1;31m---------------------------------------------------------------------------\u001b[0m",
      "\u001b[1;31mKeyError\u001b[0m                                  Traceback (most recent call last)",
      "File \u001b[1;32mc:\\Users\\seva\\AppData\\Local\\miniconda3\\envs\\EEG_1\\Lib\\site-packages\\pandas\\core\\indexes\\base.py:3790\u001b[0m, in \u001b[0;36mIndex.get_loc\u001b[1;34m(self, key)\u001b[0m\n\u001b[0;32m   3789\u001b[0m \u001b[38;5;28;01mtry\u001b[39;00m:\n\u001b[1;32m-> 3790\u001b[0m     \u001b[38;5;28;01mreturn\u001b[39;00m \u001b[38;5;28;43mself\u001b[39;49m\u001b[38;5;241;43m.\u001b[39;49m\u001b[43m_engine\u001b[49m\u001b[38;5;241;43m.\u001b[39;49m\u001b[43mget_loc\u001b[49m\u001b[43m(\u001b[49m\u001b[43mcasted_key\u001b[49m\u001b[43m)\u001b[49m\n\u001b[0;32m   3791\u001b[0m \u001b[38;5;28;01mexcept\u001b[39;00m \u001b[38;5;167;01mKeyError\u001b[39;00m \u001b[38;5;28;01mas\u001b[39;00m err:\n",
      "File \u001b[1;32mindex.pyx:152\u001b[0m, in \u001b[0;36mpandas._libs.index.IndexEngine.get_loc\u001b[1;34m()\u001b[0m\n",
      "File \u001b[1;32mindex.pyx:181\u001b[0m, in \u001b[0;36mpandas._libs.index.IndexEngine.get_loc\u001b[1;34m()\u001b[0m\n",
      "File \u001b[1;32mpandas\\_libs\\hashtable_class_helper.pxi:7080\u001b[0m, in \u001b[0;36mpandas._libs.hashtable.PyObjectHashTable.get_item\u001b[1;34m()\u001b[0m\n",
      "File \u001b[1;32mpandas\\_libs\\hashtable_class_helper.pxi:7088\u001b[0m, in \u001b[0;36mpandas._libs.hashtable.PyObjectHashTable.get_item\u001b[1;34m()\u001b[0m\n",
      "\u001b[1;31mKeyError\u001b[0m: 'building'",
      "\nThe above exception was the direct cause of the following exception:\n",
      "\u001b[1;31mKeyError\u001b[0m                                  Traceback (most recent call last)",
      "File \u001b[1;32mindex.pyx:842\u001b[0m, in \u001b[0;36mpandas._libs.index.BaseMultiIndexCodesEngine.get_loc\u001b[1;34m()\u001b[0m\n",
      "File \u001b[1;32mc:\\Users\\seva\\AppData\\Local\\miniconda3\\envs\\EEG_1\\Lib\\site-packages\\pandas\\core\\indexes\\base.py:3797\u001b[0m, in \u001b[0;36mIndex.get_loc\u001b[1;34m(self, key)\u001b[0m\n\u001b[0;32m   3796\u001b[0m         \u001b[38;5;28;01mraise\u001b[39;00m InvalidIndexError(key)\n\u001b[1;32m-> 3797\u001b[0m     \u001b[38;5;28;01mraise\u001b[39;00m \u001b[38;5;167;01mKeyError\u001b[39;00m(key) \u001b[38;5;28;01mfrom\u001b[39;00m \u001b[38;5;21;01merr\u001b[39;00m\n\u001b[0;32m   3798\u001b[0m \u001b[38;5;28;01mexcept\u001b[39;00m \u001b[38;5;167;01mTypeError\u001b[39;00m:\n\u001b[0;32m   3799\u001b[0m     \u001b[38;5;66;03m# If we have a listlike key, _check_indexing_error will raise\u001b[39;00m\n\u001b[0;32m   3800\u001b[0m     \u001b[38;5;66;03m#  InvalidIndexError. Otherwise we fall through and re-raise\u001b[39;00m\n\u001b[0;32m   3801\u001b[0m     \u001b[38;5;66;03m#  the TypeError.\u001b[39;00m\n",
      "\u001b[1;31mKeyError\u001b[0m: 'building'",
      "\nDuring handling of the above exception, another exception occurred:\n",
      "\u001b[1;31mKeyError\u001b[0m                                  Traceback (most recent call last)",
      "File \u001b[1;32mc:\\Users\\seva\\AppData\\Local\\miniconda3\\envs\\EEG_1\\Lib\\site-packages\\pandas\\core\\indexes\\multi.py:2938\u001b[0m, in \u001b[0;36mMultiIndex.get_loc\u001b[1;34m(self, key)\u001b[0m\n\u001b[0;32m   2937\u001b[0m \u001b[38;5;28;01mtry\u001b[39;00m:\n\u001b[1;32m-> 2938\u001b[0m     \u001b[38;5;28;01mreturn\u001b[39;00m \u001b[38;5;28;43mself\u001b[39;49m\u001b[38;5;241;43m.\u001b[39;49m\u001b[43m_engine\u001b[49m\u001b[38;5;241;43m.\u001b[39;49m\u001b[43mget_loc\u001b[49m\u001b[43m(\u001b[49m\u001b[43mkey\u001b[49m\u001b[43m)\u001b[49m\n\u001b[0;32m   2939\u001b[0m \u001b[38;5;28;01mexcept\u001b[39;00m \u001b[38;5;167;01mKeyError\u001b[39;00m \u001b[38;5;28;01mas\u001b[39;00m err:\n",
      "File \u001b[1;32mindex.pyx:845\u001b[0m, in \u001b[0;36mpandas._libs.index.BaseMultiIndexCodesEngine.get_loc\u001b[1;34m()\u001b[0m\n",
      "\u001b[1;31mKeyError\u001b[0m: ('building', 'outputs', 'T_room1')",
      "\nThe above exception was the direct cause of the following exception:\n",
      "\u001b[1;31mKeyError\u001b[0m                                  Traceback (most recent call last)",
      "Cell \u001b[1;32mIn[21], line 8\u001b[0m\n\u001b[0;32m      6\u001b[0m fig, ax \u001b[38;5;241m=\u001b[39m plt\u001b[38;5;241m.\u001b[39msubplots(\u001b[38;5;241m3\u001b[39m, sharex\u001b[38;5;241m=\u001b[39m\u001b[38;5;28;01mTrue\u001b[39;00m)\n\u001b[0;32m      7\u001b[0m \u001b[38;5;66;03m# Roomtemperatures\u001b[39;00m\n\u001b[1;32m----> 8\u001b[0m ax[\u001b[38;5;241m0\u001b[39m]\u001b[38;5;241m.\u001b[39mplot(dtindex, \u001b[43mdf\u001b[49m\u001b[38;5;241;43m.\u001b[39;49m\u001b[43mloc\u001b[49m\u001b[43m[\u001b[49m\u001b[43m:\u001b[49m\u001b[43m,\u001b[49m\u001b[43m \u001b[49m\u001b[43m(\u001b[49m\u001b[38;5;124;43m'\u001b[39;49m\u001b[38;5;124;43mbuilding\u001b[39;49m\u001b[38;5;124;43m'\u001b[39;49m\u001b[43m,\u001b[49m\u001b[43m \u001b[49m\u001b[38;5;124;43m'\u001b[39;49m\u001b[38;5;124;43moutputs\u001b[39;49m\u001b[38;5;124;43m'\u001b[39;49m\u001b[43m,\u001b[49m\u001b[43m \u001b[49m\u001b[38;5;124;43m'\u001b[39;49m\u001b[38;5;124;43mT_room1\u001b[39;49m\u001b[38;5;124;43m'\u001b[39;49m\u001b[43m)\u001b[49m\u001b[43m]\u001b[49m, label\u001b[38;5;241m=\u001b[39m\u001b[38;5;124m'\u001b[39m\u001b[38;5;124mT_room1\u001b[39m\u001b[38;5;124m'\u001b[39m, drawstyle\u001b[38;5;241m=\u001b[39m\u001b[38;5;124m'\u001b[39m\u001b[38;5;124msteps\u001b[39m\u001b[38;5;124m'\u001b[39m)\n\u001b[0;32m      9\u001b[0m ax[\u001b[38;5;241m0\u001b[39m]\u001b[38;5;241m.\u001b[39mplot(dtindex, df\u001b[38;5;241m.\u001b[39mloc[:, (\u001b[38;5;124m'\u001b[39m\u001b[38;5;124mbuilding\u001b[39m\u001b[38;5;124m'\u001b[39m, \u001b[38;5;124m'\u001b[39m\u001b[38;5;124moutputs\u001b[39m\u001b[38;5;124m'\u001b[39m, \u001b[38;5;124m'\u001b[39m\u001b[38;5;124mT_room2\u001b[39m\u001b[38;5;124m'\u001b[39m)], label\u001b[38;5;241m=\u001b[39m\u001b[38;5;124m'\u001b[39m\u001b[38;5;124mT_room2\u001b[39m\u001b[38;5;124m'\u001b[39m, drawstyle\u001b[38;5;241m=\u001b[39m\u001b[38;5;124m'\u001b[39m\u001b[38;5;124msteps\u001b[39m\u001b[38;5;124m'\u001b[39m)\n\u001b[0;32m     10\u001b[0m ax[\u001b[38;5;241m0\u001b[39m]\u001b[38;5;241m.\u001b[39mplot(dtindex, df\u001b[38;5;241m.\u001b[39mloc[:, (\u001b[38;5;124m'\u001b[39m\u001b[38;5;124mbuilding\u001b[39m\u001b[38;5;124m'\u001b[39m, \u001b[38;5;124m'\u001b[39m\u001b[38;5;124minputs\u001b[39m\u001b[38;5;124m'\u001b[39m, \u001b[38;5;124m'\u001b[39m\u001b[38;5;124mT_amb\u001b[39m\u001b[38;5;124m'\u001b[39m)], label\u001b[38;5;241m=\u001b[39m\u001b[38;5;124m'\u001b[39m\u001b[38;5;124mT_amb\u001b[39m\u001b[38;5;124m'\u001b[39m, drawstyle\u001b[38;5;241m=\u001b[39m\u001b[38;5;124m'\u001b[39m\u001b[38;5;124msteps\u001b[39m\u001b[38;5;124m'\u001b[39m)\n",
      "File \u001b[1;32mc:\\Users\\seva\\AppData\\Local\\miniconda3\\envs\\EEG_1\\Lib\\site-packages\\pandas\\core\\indexing.py:1147\u001b[0m, in \u001b[0;36m_LocationIndexer.__getitem__\u001b[1;34m(self, key)\u001b[0m\n\u001b[0;32m   1145\u001b[0m     \u001b[38;5;28;01mif\u001b[39;00m \u001b[38;5;28mself\u001b[39m\u001b[38;5;241m.\u001b[39m_is_scalar_access(key):\n\u001b[0;32m   1146\u001b[0m         \u001b[38;5;28;01mreturn\u001b[39;00m \u001b[38;5;28mself\u001b[39m\u001b[38;5;241m.\u001b[39mobj\u001b[38;5;241m.\u001b[39m_get_value(\u001b[38;5;241m*\u001b[39mkey, takeable\u001b[38;5;241m=\u001b[39m\u001b[38;5;28mself\u001b[39m\u001b[38;5;241m.\u001b[39m_takeable)\n\u001b[1;32m-> 1147\u001b[0m     \u001b[38;5;28;01mreturn\u001b[39;00m \u001b[38;5;28;43mself\u001b[39;49m\u001b[38;5;241;43m.\u001b[39;49m\u001b[43m_getitem_tuple\u001b[49m\u001b[43m(\u001b[49m\u001b[43mkey\u001b[49m\u001b[43m)\u001b[49m\n\u001b[0;32m   1148\u001b[0m \u001b[38;5;28;01melse\u001b[39;00m:\n\u001b[0;32m   1149\u001b[0m     \u001b[38;5;66;03m# we by definition only have the 0th axis\u001b[39;00m\n\u001b[0;32m   1150\u001b[0m     axis \u001b[38;5;241m=\u001b[39m \u001b[38;5;28mself\u001b[39m\u001b[38;5;241m.\u001b[39maxis \u001b[38;5;129;01mor\u001b[39;00m \u001b[38;5;241m0\u001b[39m\n",
      "File \u001b[1;32mc:\\Users\\seva\\AppData\\Local\\miniconda3\\envs\\EEG_1\\Lib\\site-packages\\pandas\\core\\indexing.py:1330\u001b[0m, in \u001b[0;36m_LocIndexer._getitem_tuple\u001b[1;34m(self, tup)\u001b[0m\n\u001b[0;32m   1328\u001b[0m \u001b[38;5;28;01mwith\u001b[39;00m suppress(IndexingError):\n\u001b[0;32m   1329\u001b[0m     tup \u001b[38;5;241m=\u001b[39m \u001b[38;5;28mself\u001b[39m\u001b[38;5;241m.\u001b[39m_expand_ellipsis(tup)\n\u001b[1;32m-> 1330\u001b[0m     \u001b[38;5;28;01mreturn\u001b[39;00m \u001b[38;5;28;43mself\u001b[39;49m\u001b[38;5;241;43m.\u001b[39;49m\u001b[43m_getitem_lowerdim\u001b[49m\u001b[43m(\u001b[49m\u001b[43mtup\u001b[49m\u001b[43m)\u001b[49m\n\u001b[0;32m   1332\u001b[0m \u001b[38;5;66;03m# no multi-index, so validate all of the indexers\u001b[39;00m\n\u001b[0;32m   1333\u001b[0m tup \u001b[38;5;241m=\u001b[39m \u001b[38;5;28mself\u001b[39m\u001b[38;5;241m.\u001b[39m_validate_tuple_indexer(tup)\n",
      "File \u001b[1;32mc:\\Users\\seva\\AppData\\Local\\miniconda3\\envs\\EEG_1\\Lib\\site-packages\\pandas\\core\\indexing.py:1015\u001b[0m, in \u001b[0;36m_LocationIndexer._getitem_lowerdim\u001b[1;34m(self, tup)\u001b[0m\n\u001b[0;32m   1013\u001b[0m \u001b[38;5;66;03m# we may have a nested tuples indexer here\u001b[39;00m\n\u001b[0;32m   1014\u001b[0m \u001b[38;5;28;01mif\u001b[39;00m \u001b[38;5;28mself\u001b[39m\u001b[38;5;241m.\u001b[39m_is_nested_tuple_indexer(tup):\n\u001b[1;32m-> 1015\u001b[0m     \u001b[38;5;28;01mreturn\u001b[39;00m \u001b[38;5;28;43mself\u001b[39;49m\u001b[38;5;241;43m.\u001b[39;49m\u001b[43m_getitem_nested_tuple\u001b[49m\u001b[43m(\u001b[49m\u001b[43mtup\u001b[49m\u001b[43m)\u001b[49m\n\u001b[0;32m   1017\u001b[0m \u001b[38;5;66;03m# we maybe be using a tuple to represent multiple dimensions here\u001b[39;00m\n\u001b[0;32m   1018\u001b[0m ax0 \u001b[38;5;241m=\u001b[39m \u001b[38;5;28mself\u001b[39m\u001b[38;5;241m.\u001b[39mobj\u001b[38;5;241m.\u001b[39m_get_axis(\u001b[38;5;241m0\u001b[39m)\n",
      "File \u001b[1;32mc:\\Users\\seva\\AppData\\Local\\miniconda3\\envs\\EEG_1\\Lib\\site-packages\\pandas\\core\\indexing.py:1127\u001b[0m, in \u001b[0;36m_LocationIndexer._getitem_nested_tuple\u001b[1;34m(self, tup)\u001b[0m\n\u001b[0;32m   1124\u001b[0m     axis \u001b[38;5;241m-\u001b[39m\u001b[38;5;241m=\u001b[39m \u001b[38;5;241m1\u001b[39m\n\u001b[0;32m   1125\u001b[0m     \u001b[38;5;28;01mcontinue\u001b[39;00m\n\u001b[1;32m-> 1127\u001b[0m obj \u001b[38;5;241m=\u001b[39m \u001b[38;5;28;43mgetattr\u001b[39;49m\u001b[43m(\u001b[49m\u001b[43mobj\u001b[49m\u001b[43m,\u001b[49m\u001b[43m \u001b[49m\u001b[38;5;28;43mself\u001b[39;49m\u001b[38;5;241;43m.\u001b[39;49m\u001b[43mname\u001b[49m\u001b[43m)\u001b[49m\u001b[38;5;241;43m.\u001b[39;49m\u001b[43m_getitem_axis\u001b[49m\u001b[43m(\u001b[49m\u001b[43mkey\u001b[49m\u001b[43m,\u001b[49m\u001b[43m \u001b[49m\u001b[43maxis\u001b[49m\u001b[38;5;241;43m=\u001b[39;49m\u001b[43maxis\u001b[49m\u001b[43m)\u001b[49m\n\u001b[0;32m   1128\u001b[0m axis \u001b[38;5;241m-\u001b[39m\u001b[38;5;241m=\u001b[39m \u001b[38;5;241m1\u001b[39m\n\u001b[0;32m   1130\u001b[0m \u001b[38;5;66;03m# if we have a scalar, we are done\u001b[39;00m\n",
      "File \u001b[1;32mc:\\Users\\seva\\AppData\\Local\\miniconda3\\envs\\EEG_1\\Lib\\site-packages\\pandas\\core\\indexing.py:1393\u001b[0m, in \u001b[0;36m_LocIndexer._getitem_axis\u001b[1;34m(self, key, axis)\u001b[0m\n\u001b[0;32m   1391\u001b[0m \u001b[38;5;66;03m# fall thru to straight lookup\u001b[39;00m\n\u001b[0;32m   1392\u001b[0m \u001b[38;5;28mself\u001b[39m\u001b[38;5;241m.\u001b[39m_validate_key(key, axis)\n\u001b[1;32m-> 1393\u001b[0m \u001b[38;5;28;01mreturn\u001b[39;00m \u001b[38;5;28;43mself\u001b[39;49m\u001b[38;5;241;43m.\u001b[39;49m\u001b[43m_get_label\u001b[49m\u001b[43m(\u001b[49m\u001b[43mkey\u001b[49m\u001b[43m,\u001b[49m\u001b[43m \u001b[49m\u001b[43maxis\u001b[49m\u001b[38;5;241;43m=\u001b[39;49m\u001b[43maxis\u001b[49m\u001b[43m)\u001b[49m\n",
      "File \u001b[1;32mc:\\Users\\seva\\AppData\\Local\\miniconda3\\envs\\EEG_1\\Lib\\site-packages\\pandas\\core\\indexing.py:1343\u001b[0m, in \u001b[0;36m_LocIndexer._get_label\u001b[1;34m(self, label, axis)\u001b[0m\n\u001b[0;32m   1341\u001b[0m \u001b[38;5;28;01mdef\u001b[39;00m \u001b[38;5;21m_get_label\u001b[39m(\u001b[38;5;28mself\u001b[39m, label, axis: AxisInt):\n\u001b[0;32m   1342\u001b[0m     \u001b[38;5;66;03m# GH#5567 this will fail if the label is not present in the axis.\u001b[39;00m\n\u001b[1;32m-> 1343\u001b[0m     \u001b[38;5;28;01mreturn\u001b[39;00m \u001b[38;5;28;43mself\u001b[39;49m\u001b[38;5;241;43m.\u001b[39;49m\u001b[43mobj\u001b[49m\u001b[38;5;241;43m.\u001b[39;49m\u001b[43mxs\u001b[49m\u001b[43m(\u001b[49m\u001b[43mlabel\u001b[49m\u001b[43m,\u001b[49m\u001b[43m \u001b[49m\u001b[43maxis\u001b[49m\u001b[38;5;241;43m=\u001b[39;49m\u001b[43maxis\u001b[49m\u001b[43m)\u001b[49m\n",
      "File \u001b[1;32mc:\\Users\\seva\\AppData\\Local\\miniconda3\\envs\\EEG_1\\Lib\\site-packages\\pandas\\core\\generic.py:4222\u001b[0m, in \u001b[0;36mNDFrame.xs\u001b[1;34m(self, key, axis, level, drop_level)\u001b[0m\n\u001b[0;32m   4220\u001b[0m \u001b[38;5;28;01mif\u001b[39;00m axis \u001b[38;5;241m==\u001b[39m \u001b[38;5;241m1\u001b[39m:\n\u001b[0;32m   4221\u001b[0m     \u001b[38;5;28;01mif\u001b[39;00m drop_level:\n\u001b[1;32m-> 4222\u001b[0m         \u001b[38;5;28;01mreturn\u001b[39;00m \u001b[38;5;28;43mself\u001b[39;49m\u001b[43m[\u001b[49m\u001b[43mkey\u001b[49m\u001b[43m]\u001b[49m\n\u001b[0;32m   4223\u001b[0m     index \u001b[38;5;241m=\u001b[39m \u001b[38;5;28mself\u001b[39m\u001b[38;5;241m.\u001b[39mcolumns\n\u001b[0;32m   4224\u001b[0m \u001b[38;5;28;01melse\u001b[39;00m:\n",
      "File \u001b[1;32mc:\\Users\\seva\\AppData\\Local\\miniconda3\\envs\\EEG_1\\Lib\\site-packages\\pandas\\core\\frame.py:3895\u001b[0m, in \u001b[0;36mDataFrame.__getitem__\u001b[1;34m(self, key)\u001b[0m\n\u001b[0;32m   3893\u001b[0m \u001b[38;5;28;01mif\u001b[39;00m is_single_key:\n\u001b[0;32m   3894\u001b[0m     \u001b[38;5;28;01mif\u001b[39;00m \u001b[38;5;28mself\u001b[39m\u001b[38;5;241m.\u001b[39mcolumns\u001b[38;5;241m.\u001b[39mnlevels \u001b[38;5;241m>\u001b[39m \u001b[38;5;241m1\u001b[39m:\n\u001b[1;32m-> 3895\u001b[0m         \u001b[38;5;28;01mreturn\u001b[39;00m \u001b[38;5;28;43mself\u001b[39;49m\u001b[38;5;241;43m.\u001b[39;49m\u001b[43m_getitem_multilevel\u001b[49m\u001b[43m(\u001b[49m\u001b[43mkey\u001b[49m\u001b[43m)\u001b[49m\n\u001b[0;32m   3896\u001b[0m     indexer \u001b[38;5;241m=\u001b[39m \u001b[38;5;28mself\u001b[39m\u001b[38;5;241m.\u001b[39mcolumns\u001b[38;5;241m.\u001b[39mget_loc(key)\n\u001b[0;32m   3897\u001b[0m     \u001b[38;5;28;01mif\u001b[39;00m is_integer(indexer):\n",
      "File \u001b[1;32mc:\\Users\\seva\\AppData\\Local\\miniconda3\\envs\\EEG_1\\Lib\\site-packages\\pandas\\core\\frame.py:3953\u001b[0m, in \u001b[0;36mDataFrame._getitem_multilevel\u001b[1;34m(self, key)\u001b[0m\n\u001b[0;32m   3951\u001b[0m \u001b[38;5;28;01mdef\u001b[39;00m \u001b[38;5;21m_getitem_multilevel\u001b[39m(\u001b[38;5;28mself\u001b[39m, key):\n\u001b[0;32m   3952\u001b[0m     \u001b[38;5;66;03m# self.columns is a MultiIndex\u001b[39;00m\n\u001b[1;32m-> 3953\u001b[0m     loc \u001b[38;5;241m=\u001b[39m \u001b[38;5;28;43mself\u001b[39;49m\u001b[38;5;241;43m.\u001b[39;49m\u001b[43mcolumns\u001b[49m\u001b[38;5;241;43m.\u001b[39;49m\u001b[43mget_loc\u001b[49m\u001b[43m(\u001b[49m\u001b[43mkey\u001b[49m\u001b[43m)\u001b[49m\n\u001b[0;32m   3954\u001b[0m     \u001b[38;5;28;01mif\u001b[39;00m \u001b[38;5;28misinstance\u001b[39m(loc, (\u001b[38;5;28mslice\u001b[39m, np\u001b[38;5;241m.\u001b[39mndarray)):\n\u001b[0;32m   3955\u001b[0m         new_columns \u001b[38;5;241m=\u001b[39m \u001b[38;5;28mself\u001b[39m\u001b[38;5;241m.\u001b[39mcolumns[loc]\n",
      "File \u001b[1;32mc:\\Users\\seva\\AppData\\Local\\miniconda3\\envs\\EEG_1\\Lib\\site-packages\\pandas\\core\\indexes\\multi.py:2940\u001b[0m, in \u001b[0;36mMultiIndex.get_loc\u001b[1;34m(self, key)\u001b[0m\n\u001b[0;32m   2938\u001b[0m     \u001b[38;5;28;01mreturn\u001b[39;00m \u001b[38;5;28mself\u001b[39m\u001b[38;5;241m.\u001b[39m_engine\u001b[38;5;241m.\u001b[39mget_loc(key)\n\u001b[0;32m   2939\u001b[0m \u001b[38;5;28;01mexcept\u001b[39;00m \u001b[38;5;167;01mKeyError\u001b[39;00m \u001b[38;5;28;01mas\u001b[39;00m err:\n\u001b[1;32m-> 2940\u001b[0m     \u001b[38;5;28;01mraise\u001b[39;00m \u001b[38;5;167;01mKeyError\u001b[39;00m(key) \u001b[38;5;28;01mfrom\u001b[39;00m \u001b[38;5;21;01merr\u001b[39;00m\n\u001b[0;32m   2941\u001b[0m \u001b[38;5;28;01mexcept\u001b[39;00m \u001b[38;5;167;01mTypeError\u001b[39;00m:\n\u001b[0;32m   2942\u001b[0m     \u001b[38;5;66;03m# e.g. test_partial_slicing_with_multiindex partial string slicing\u001b[39;00m\n\u001b[0;32m   2943\u001b[0m     loc, _ \u001b[38;5;241m=\u001b[39m \u001b[38;5;28mself\u001b[39m\u001b[38;5;241m.\u001b[39mget_loc_level(key, \u001b[38;5;28mlist\u001b[39m(\u001b[38;5;28mrange\u001b[39m(\u001b[38;5;28mself\u001b[39m\u001b[38;5;241m.\u001b[39mnlevels)))\n",
      "\u001b[1;31mKeyError\u001b[0m: ('building', 'outputs', 'T_room1')"
     ]
    },
    {
     "data": {
      "application/vnd.jupyter.widget-view+json": {
       "model_id": "5520cad99a5243fca1f295be6fd06c5f",
       "version_major": 2,
       "version_minor": 0
      },
      "image/png": "[encoded data removed]",
      "text/html": [
       "\n",
       "            <div style=\"display: inline-block;\">\n",
       "                <div class=\"jupyter-widgets widget-label\" style=\"text-align: center;\">\n",
       "                    Figure\n",
       "                </div>\n",
       "                <img src='data:image/png;base64,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' width=640.0/>\n",
       "            </div>\n",
       "        "
      ],
      "text/plain": [
       "Canvas(toolbar=Toolbar(toolitems=[('Home', 'Reset original view', 'home', 'home'), ('Back', 'Back to previous …"
      ]
     },
     "metadata": {},
     "output_type": "display_data"
    }
   ],
   "source": [
    "df = df\n",
    "\n",
    "df.interpolate('ffill', inplace=True)\n",
    "dtindex = df.index \n",
    "\n",
    "fig, ax = plt.subplots(3, sharex=True)\n",
    "# Roomtemperatures\n",
    "ax[0].plot(dtindex, df.loc[:, ('building', 'outputs', 'T_room1')], label='T_room1', drawstyle='steps')\n",
    "ax[0].plot(dtindex, df.loc[:, ('building', 'outputs', 'T_room2')], label='T_room2', drawstyle='steps')\n",
    "ax[0].plot(dtindex, df.loc[:, ('building', 'inputs', 'T_amb')], label='T_amb', drawstyle='steps')\n",
    "\n",
    "ax[0].legend()\n",
    "ax[0].set_ylabel('Temperatures in °C')\n",
    "\n",
    "ax[1].plot(dtindex, df.loc[:, ('heatpump', 'outputs', 'P_el')], label='P_el', drawstyle='steps')\n",
    "ax[1].plot(dtindex, df.loc[:, ('heatpump', 'outputs', 'dot_Q_hp')], label='dot_Q_hp', drawstyle='steps')\n",
    "ax[1].legend()\n",
    "ax[1].set_ylabel('Power in W')\n",
    "\n",
    "ax[-1].set_xlabel('Time')\n",
    "ax[-1].xaxis.set_major_formatter(mdates.ConciseDateFormatter(ax[-1].xaxis.get_major_locator(),))"
   ]
  },
  {
   "cell_type": "code",
   "execution_count": 14,
   "metadata": {},
   "outputs": [
    {
     "ename": "AttributeError",
     "evalue": "'Simulation' object has no attribute 'draw_execution_visualization'",
     "output_type": "error",
     "traceback": [
      "\u001b[1;31m---------------------------------------------------------------------------\u001b[0m",
      "\u001b[1;31mAttributeError\u001b[0m                            Traceback (most recent call last)",
      "Cell \u001b[1;32mIn[14], line 1\u001b[0m\n\u001b[1;32m----> 1\u001b[0m \u001b[43msim\u001b[49m\u001b[38;5;241;43m.\u001b[39;49m\u001b[43mdraw_execution_visualization\u001b[49m()\n",
      "\u001b[1;31mAttributeError\u001b[0m: 'Simulation' object has no attribute 'draw_execution_visualization'"
     ]
    }
   ],
   "source": [
    "sim.draw_execution_visualization()"
   ]
  },
  {
   "cell_type": "code",
   "execution_count": null,
   "metadata": {},
   "outputs": [],
   "source": []
  }
 ],
 "metadata": {
  "kernelspec": {
   "display_name": "EEG_1",
   "language": "python",
   "name": "python3"
  },
  "language_info": {
   "codemirror_mode": {
    "name": "ipython",
    "version": 3
   },
   "file_extension": ".py",
   "mimetype": "text/x-python",
   "name": "python",
   "nbconvert_exporter": "python",
   "pygments_lexer": "ipython3",
   "version": "3.11.5"
  },
  "orig_nbformat": 4
 },
 "nbformat": 4,
 "nbformat_minor": 2
}
