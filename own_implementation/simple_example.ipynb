{
 "cells": [
  {
   "cell_type": "code",
   "execution_count": 1,
   "metadata": {},
   "outputs": [],
   "source": [
    "from simulation import Simulation\n",
    "import pandas as pd"
   ]
  },
  {
   "cell_type": "code",
   "execution_count": 2,
   "metadata": {},
   "outputs": [],
   "source": [
    "class ExampleModel():\n",
    "    inputs = ['value_in']\n",
    "    outputs = ['value_out']\n",
    "    delta_t = 60 # s\n",
    "\n",
    "    def __init__(self, name):\n",
    "        self.name = name\n",
    "        # init parameters here\n",
    "\n",
    "    def step(self, time, value_in) -> dict:\n",
    "        # model logic here\n",
    "        value_out = value_in + 1\n",
    "        return {'value_out': value_out}"
   ]
  },
  {
   "cell_type": "code",
   "execution_count": 5,
   "metadata": {},
   "outputs": [
    {
     "name": "stderr",
     "output_type": "stream",
     "text": [
      "Progress: 100%|██████████| 2881/2881 [00:02<00:00, 1355.84Steps/s]\n"
     ]
    }
   ],
   "source": [
    "sim = Simulation(output_to_file=True)\n",
    "\n",
    "model1   = ExampleModel('example_1')\n",
    "model2   = ExampleModel('example_2')\n",
    "\n",
    "sim.add_model(model1, watch_values=['value_in'])\n",
    "sim.add_model(model2, watch_values=['value_out'])\n",
    "\n",
    "sim.connect(model1, model2, ('value_out', 'value_in'))\n",
    "sim.connect(model2, model1, ('value_out', 'value_in'), time_shifted=True, init_values={'value_out': 1})\n",
    "\n",
    "times = pd.date_range('2021-01-01 00:00:00', '2021-01-03 00:00:00', freq='1min', tz='UTC+01:00')\n",
    "\n",
    "sim.run(times)"
   ]
  },
  {
   "cell_type": "code",
   "execution_count": 4,
   "metadata": {},
   "outputs": [
    {
     "data": {
      "text/html": [
       "<div>\n",
       "<style scoped>\n",
       "    .dataframe tbody tr th:only-of-type {\n",
       "        vertical-align: middle;\n",
       "    }\n",
       "\n",
       "    .dataframe tbody tr th {\n",
       "        vertical-align: top;\n",
       "    }\n",
       "\n",
       "    .dataframe thead tr th {\n",
       "        text-align: left;\n",
       "    }\n",
       "</style>\n",
       "<table border=\"1\" class=\"dataframe\">\n",
       "  <thead>\n",
       "    <tr>\n",
       "      <th>model</th>\n",
       "      <th>example_1</th>\n",
       "      <th>example_2</th>\n",
       "    </tr>\n",
       "    <tr>\n",
       "      <th>i/o</th>\n",
       "      <th>inputs</th>\n",
       "      <th>outputs</th>\n",
       "    </tr>\n",
       "    <tr>\n",
       "      <th>attribute</th>\n",
       "      <th>value_in</th>\n",
       "      <th>value_out</th>\n",
       "    </tr>\n",
       "  </thead>\n",
       "  <tbody>\n",
       "    <tr>\n",
       "      <th>2021-01-01 00:00:00+01:00</th>\n",
       "      <td>1</td>\n",
       "      <td>3</td>\n",
       "    </tr>\n",
       "    <tr>\n",
       "      <th>2021-01-01 00:01:00+01:00</th>\n",
       "      <td>3</td>\n",
       "      <td>5</td>\n",
       "    </tr>\n",
       "    <tr>\n",
       "      <th>2021-01-01 00:02:00+01:00</th>\n",
       "      <td>5</td>\n",
       "      <td>7</td>\n",
       "    </tr>\n",
       "    <tr>\n",
       "      <th>2021-01-01 00:03:00+01:00</th>\n",
       "      <td>7</td>\n",
       "      <td>9</td>\n",
       "    </tr>\n",
       "    <tr>\n",
       "      <th>2021-01-01 00:04:00+01:00</th>\n",
       "      <td>9</td>\n",
       "      <td>11</td>\n",
       "    </tr>\n",
       "    <tr>\n",
       "      <th>...</th>\n",
       "      <td>...</td>\n",
       "      <td>...</td>\n",
       "    </tr>\n",
       "    <tr>\n",
       "      <th>2021-01-02 23:56:00+01:00</th>\n",
       "      <td>5753</td>\n",
       "      <td>5755</td>\n",
       "    </tr>\n",
       "    <tr>\n",
       "      <th>2021-01-02 23:57:00+01:00</th>\n",
       "      <td>5755</td>\n",
       "      <td>5757</td>\n",
       "    </tr>\n",
       "    <tr>\n",
       "      <th>2021-01-02 23:58:00+01:00</th>\n",
       "      <td>5757</td>\n",
       "      <td>5759</td>\n",
       "    </tr>\n",
       "    <tr>\n",
       "      <th>2021-01-02 23:59:00+01:00</th>\n",
       "      <td>5759</td>\n",
       "      <td>5761</td>\n",
       "    </tr>\n",
       "    <tr>\n",
       "      <th>2021-01-03 00:00:00+01:00</th>\n",
       "      <td>5761</td>\n",
       "      <td>5763</td>\n",
       "    </tr>\n",
       "  </tbody>\n",
       "</table>\n",
       "<p>2881 rows × 2 columns</p>\n",
       "</div>"
      ],
      "text/plain": [
       "model                     example_1 example_2\n",
       "i/o                          inputs   outputs\n",
       "attribute                  value_in value_out\n",
       "2021-01-01 00:00:00+01:00         1         3\n",
       "2021-01-01 00:01:00+01:00         3         5\n",
       "2021-01-01 00:02:00+01:00         5         7\n",
       "2021-01-01 00:03:00+01:00         7         9\n",
       "2021-01-01 00:04:00+01:00         9        11\n",
       "...                             ...       ...\n",
       "2021-01-02 23:56:00+01:00      5753      5755\n",
       "2021-01-02 23:57:00+01:00      5755      5757\n",
       "2021-01-02 23:58:00+01:00      5757      5759\n",
       "2021-01-02 23:59:00+01:00      5759      5761\n",
       "2021-01-03 00:00:00+01:00      5761      5763\n",
       "\n",
       "[2881 rows x 2 columns]"
      ]
     },
     "execution_count": 4,
     "metadata": {},
     "output_type": "execute_result"
    }
   ],
   "source": [
    "sim.df"
   ]
  },
  {
   "cell_type": "code",
   "execution_count": null,
   "metadata": {},
   "outputs": [],
   "source": []
  }
 ],
 "metadata": {
  "kernelspec": {
   "display_name": "EEG_1",
   "language": "python",
   "name": "python3"
  },
  "language_info": {
   "codemirror_mode": {
    "name": "ipython",
    "version": 3
   },
   "file_extension": ".py",
   "mimetype": "text/x-python",
   "name": "python",
   "nbconvert_exporter": "python",
   "pygments_lexer": "ipython3",
   "version": "3.11.5"
  }
 },
 "nbformat": 4,
 "nbformat_minor": 2
}
